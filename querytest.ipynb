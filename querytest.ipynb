{
 "metadata": {
  "name": "",
  "signature": "sha256:08b7193d2326bdc119815b8e40b84b3704aea087b9c9156f3ad517d43f88e5b7"
 },
 "nbformat": 3,
 "nbformat_minor": 0,
 "worksheets": [
  {
   "cells": [
    {
     "cell_type": "code",
     "collapsed": false,
     "input": [
      "from lxml.etree import parse\n",
      "from lxml import objectify\n",
      "from urllib2 import urlopen"
     ],
     "language": "python",
     "metadata": {},
     "outputs": []
    },
    {
     "cell_type": "code",
     "collapsed": false,
     "input": [
      "namespaces = [\n",
      "    ('base',\"http://api.datamarket.azure.com/Data.ashx/MRC/MicrosoftAcademic/v1/\"),\n",
      "    ('d',\"http://schemas.microsoft.com/ado/2007/08/dataservices\"),\n",
      "    ('m',\"http://schemas.microsoft.com/ado/2007/08/dataservices/metadata\"),\n",
      "    ('x',\"http://www.w3.org/2005/Atom\")\n",
      "]\n",
      "\n",
      "n = dict(namespaces)"
     ],
     "language": "python",
     "metadata": {},
     "outputs": []
    },
    {
     "cell_type": "code",
     "collapsed": false,
     "input": [
      "base = 'http://api.datamarket.azure.com/MRC/MicrosoftAcademic/v1/'\n",
      "author            = base + 'Author?$filter=AffiliationID%20eq%20566%20and%20Name%20eq%20%27junko%20habu%27'\n",
      "doc = parse(urlopen(author))\n",
      "x = doc.xpath('//d:ID/text()', namespaces=n)\n",
      "print x"
     ],
     "language": "python",
     "metadata": {},
     "outputs": []
    },
    {
     "cell_type": "code",
     "collapsed": false,
     "input": [
      "paper_list        = base + 'Paper_Author?$filter=AuthorID%20eq%20' + x[0]\n",
      "doc = parse(urlopen(paper_list))\n",
      "x = doc.xpath('//d:PaperID/text()', namespaces=n)\n",
      "print x"
     ],
     "language": "python",
     "metadata": {},
     "outputs": []
    },
    {
     "cell_type": "code",
     "collapsed": false,
     "input": [
      "paper             = base + 'Paper?$filter=ID%20eq%20' + x[0]\n",
      "doc = parse(urlopen(paper))\n",
      "x = doc.xpath('//d:ID/text()', namespaces=n)\n",
      "print x"
     ],
     "language": "python",
     "metadata": {},
     "outputs": []
    },
    {
     "cell_type": "code",
     "collapsed": false,
     "input": [
      "coauthor_list     = base + 'Paper_Author?$filter=PaperID%20eq%20' + x[0]\n",
      "doc = parse(urlopen(coauthor_list))\n",
      "x = doc.xpath('//d:AuthorID/text()', namespaces=n)\n",
      "print x"
     ],
     "language": "python",
     "metadata": {},
     "outputs": []
    },
    {
     "cell_type": "code",
     "collapsed": false,
     "input": [
      "coauthor           = base + 'Author?$filter=ID%20eq%20' + x[1]\n",
      "doc = parse(urlopen(coauthor))\n",
      "x = doc.xpath('//d:ID/text()', namespaces=n)\n",
      "print x"
     ],
     "language": "python",
     "metadata": {},
     "outputs": []
    },
    {
     "cell_type": "code",
     "collapsed": false,
     "input": [
      "coauthor_affiliation = base + 'Author?$filter=ID%20eq%20' + x[0]\n",
      "doc = parse(urlopen(coauthor_affiliation))\n",
      "x = doc.xpath('//d:AffiliationID/text()', namespaces=n)\n",
      "print x"
     ],
     "language": "python",
     "metadata": {},
     "outputs": []
    },
    {
     "cell_type": "code",
     "collapsed": false,
     "input": [
      "other_affiliation = base + 'Affiliation?$filter=ID%20eq%20' + x[0]\n",
      "doc = parse(urlopen(other_affiliation))\n",
      "x = doc.xpath('//d:OfficialName/text()', namespaces=n)\n",
      "print x"
     ],
     "language": "python",
     "metadata": {},
     "outputs": []
    },
    {
     "cell_type": "code",
     "collapsed": false,
     "input": [
      "author"
     ],
     "language": "python",
     "metadata": {},
     "outputs": []
    }
   ],
   "metadata": {}
  }
 ]
}