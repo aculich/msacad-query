{
 "metadata": {
  "name": "",
  "signature": "sha256:facceb38d0c2e902f9cbdb01b826adb5b1ab95ab164d70b3cc78aef77efc9992"
 },
 "nbformat": 3,
 "nbformat_minor": 0,
 "worksheets": [
  {
   "cells": [
    {
     "cell_type": "markdown",
     "metadata": {},
     "source": [
      "Import basic Python libraries for use in your program: [os.path](http://docs.python.org/2/library/os.path.html) and [ConfigParser](http://docs.python.org/2/library/configparser.html)"
     ]
    },
    {
     "cell_type": "code",
     "collapsed": false,
     "input": [
      "import os.path\n",
      "import ConfigParser"
     ],
     "language": "python",
     "metadata": {},
     "outputs": []
    },
    {
     "cell_type": "markdown",
     "metadata": {},
     "source": [
      "An example of reading data from a Google Spreadsheet using the gspread library: http://stackoverflow.com/a/18296318/462302\n",
      "\n",
      "First you'll need to install the gspread library on your virtual machine using: `sudo pip install gspread`"
     ]
    },
    {
     "cell_type": "code",
     "collapsed": false,
     "input": [
      "import gspread"
     ],
     "language": "python",
     "metadata": {},
     "outputs": []
    },
    {
     "cell_type": "markdown",
     "metadata": {},
     "source": [
      "Define `take(n, iterable)` which is a convenience function to limit the amount of output that you print. Useful when you have lots of data that will clutter up your screen!"
     ]
    },
    {
     "cell_type": "code",
     "collapsed": false,
     "input": [
      "from itertools import islice\n",
      "def take(n, iterable):\n",
      "    \"Return first n items of the iterable as a list\"\n",
      "    return list(islice(iterable, n))"
     ],
     "language": "python",
     "metadata": {},
     "outputs": []
    },
    {
     "cell_type": "markdown",
     "metadata": {},
     "source": [
      "Read the username and password from the `[google]` section of the `ssauthors.cfg` config file from your virtual machine home directory."
     ]
    },
    {
     "cell_type": "code",
     "collapsed": false,
     "input": [
      "home = os.path.expanduser(\"~\")\n",
      "configfile = os.path.join(home, 'ssauthors.cfg')\n",
      "config = ConfigParser.SafeConfigParser()\n",
      "config.read(configfile)\n",
      "username = config.get('google', 'username')\n",
      "password = config.get('google', 'password')\n",
      "print username"
     ],
     "language": "python",
     "metadata": {},
     "outputs": []
    },
    {
     "cell_type": "markdown",
     "metadata": {},
     "source": [
      "Read the docid of the Google Spreadsheet from the config file."
     ]
    },
    {
     "cell_type": "code",
     "collapsed": false,
     "input": [
      "docid = config.get('docid', 'top100')\n",
      "client = gspread.login(username, password)\n",
      "spreadsheet = client.open_by_key(docid)\n",
      "worksheet = spreadsheet.get_worksheet(0)\n",
      "print docid"
     ],
     "language": "python",
     "metadata": {},
     "outputs": []
    },
    {
     "cell_type": "markdown",
     "metadata": {},
     "source": [
      "Add field names to this list to include the column from the Google Spreadsheet in the filtered data output. You should choose one other column in addition to the learning style column. Refer to README.md from the homework assignment."
     ]
    },
    {
     "cell_type": "code",
     "collapsed": false,
     "input": [
      "fieldnames = ['FIRST','MIDDLE','LAST']\n",
      "print fieldnames"
     ],
     "language": "python",
     "metadata": {},
     "outputs": []
    },
    {
     "cell_type": "markdown",
     "metadata": {},
     "source": [
      "Read in ALL rows of data from the Google Spreadsheet, but filter out columns that are not listed in `fieldnames`."
     ]
    },
    {
     "cell_type": "code",
     "collapsed": false,
     "input": [
      "filtered_data = []\n",
      "for row in worksheet.get_all_records():\n",
      "    filtered_data.append({k:v for k,v in row.iteritems() if k in fieldnames})\n",
      "print \"Number of rows: {}\".format(len(filtered_data))"
     ],
     "language": "python",
     "metadata": {},
     "outputs": []
    },
    {
     "cell_type": "markdown",
     "metadata": {},
     "source": [
      "Use the convenience function `take()` to print out only 3 lines from the filtered_data."
     ]
    },
    {
     "cell_type": "code",
     "collapsed": false,
     "input": [
      "for row in take(3, filtered_data):\n",
      "    print [row[f] for f in fieldnames]    "
     ],
     "language": "python",
     "metadata": {},
     "outputs": []
    },
    {
     "cell_type": "markdown",
     "metadata": {},
     "source": [
      "Set up XML parsing for the Microsoft Academic dataset:\n",
      "https://datamarket.azure.com/dataset/explore/fd118e3b-6451-4544-bb18-eb01f8970aa5"
     ]
    },
    {
     "cell_type": "code",
     "collapsed": false,
     "input": [
      "from lxml.etree import parse\n",
      "from urllib2 import urlopen, quote\n",
      "namespaces = dict([\n",
      "    ('base',\"http://api.datamarket.azure.com/Data.ashx/MRC/MicrosoftAcademic/v1/\"),\n",
      "    ('d',\"http://schemas.microsoft.com/ado/2007/08/dataservices\"),\n",
      "    ('m',\"http://schemas.microsoft.com/ado/2007/08/dataservices/metadata\"),\n",
      "    ('x',\"http://www.w3.org/2005/Atom\")\n",
      "])"
     ],
     "language": "python",
     "metadata": {},
     "outputs": []
    },
    {
     "cell_type": "code",
     "collapsed": false,
     "input": [
      "def query(author):\n",
      "    base = 'http://api.datamarket.azure.com/MRC/MicrosoftAcademic/v1/'\n",
      "    def berkeley_author_query(x): return base + 'Author?$filter=AffiliationID%20eq%20566%20and%20Name%20eq%20%27' + x + '%27'\n",
      "    doc = parse(urlopen(berkeley_author_query(author)))\n",
      "    x = doc.xpath('//d:ID/text()', namespaces=namespaces)\n",
      "    return x"
     ],
     "language": "python",
     "metadata": {},
     "outputs": []
    },
    {
     "cell_type": "code",
     "collapsed": false,
     "input": [
      "data = {}\n",
      "for row in take(100, filtered_data):\n",
      "    name = [row[f] for f in fieldnames if row[f]]\n",
      "    author = ' '.join(name)\n",
      "    ID = query(quote(author))\n",
      "    if not ID:\n",
      "        name = [row[f] for f in [x for x in fieldnames if x is not 'MIDDLE'] if row[f]]\n",
      "        author = ' '.join(name)\n",
      "        ID = query(quote(author))\n",
      "    if ID:\n",
      "        data[ID[0]] = author\n",
      "        print ID[0], author\n",
      "    else:\n",
      "        print \"not found:\", author"
     ],
     "language": "python",
     "metadata": {},
     "outputs": []
    },
    {
     "cell_type": "code",
     "collapsed": false,
     "input": [
      "def papers(author):\n",
      "    base = 'http://api.datamarket.azure.com/MRC/MicrosoftAcademic/v1/'\n",
      "    def _query(x): return parse(urlopen(base + 'Paper_Author?$filter=AuthorID%20eq%20' + str(x)))\n",
      "    doc = _query(author)\n",
      "    x = doc.xpath('//d:PaperID/text()', namespaces=namespaces)\n",
      "    for p in x:\n",
      "        def _query(z): return parse(urlopen(base + 'Paper?$filter=ID%20eq%20' + str(z)))\n",
      "        doc = _query(p)\n",
      "        title = doc.xpath('//d:Title/text()', namespaces=namespaces)[0]\n",
      "        def _query(z): return parse(urlopen(base + 'Paper_Author?$filter=PaperID%20eq%20' + str(z)))\n",
      "        doc = _query(p)\n",
      "        names = doc.xpath('//d:Name/text()', namespaces=namespaces)\n",
      "        print p, title, names\n",
      "        yield (p, title, names)\n",
      "[q for q in papers(963417)]"
     ],
     "language": "python",
     "metadata": {},
     "outputs": []
    }
   ],
   "metadata": {}
  }
 ]
}